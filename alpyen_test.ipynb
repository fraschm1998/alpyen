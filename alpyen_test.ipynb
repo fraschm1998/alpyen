{
 "cells": [
  {
   "cell_type": "markdown",
   "metadata": {},
   "source": [
    "# Alpyen\n",
    "Algo trading engine implemented in Python"
   ]
  },
  {
   "cell_type": "code",
   "execution_count": null,
   "metadata": {},
   "outputs": [],
   "source": [
    "import alpyen.signal as alp_sig\n",
    "import alpyen.strategy as alp_str\n",
    "import alpyen.utils as alp_utils\n",
    "import alpyen.backtesting as alp_bt\n",
    "import alpyen.datacontainer as alp_dc"
   ]
  },
  {
   "cell_type": "markdown",
   "metadata": {},
   "source": [
    "# Backtesting"
   ]
  },
  {
   "cell_type": "code",
   "execution_count": null,
   "metadata": {},
   "outputs": [],
   "source": [
    "# Read data\n",
    "data_folder_path = 'tests\\\\Data\\\\'\n",
    "ticker_name = 'BBH'\n",
    "short_lookback = 5\n",
    "long_lookback = 200\n",
    "short_lookback_name = ticker_name + '_MA_' + str(short_lookback)\n",
    "long_lookback_name = ticker_name + '_MA_' + str(long_lookback)\n",
    "ticker_names = [ticker_name]\n",
    "all_input = alp_dc.DataUtils.aggregate_yahoo_data(ticker_names, data_folder_path)"
   ]
  },
  {
   "cell_type": "code",
   "execution_count": null,
   "metadata": {},
   "outputs": [],
   "source": [
    "# Subscribe to signals\n",
    "signal_info_dict = {}\n",
    "signal_info_dict[short_lookback_name]\\\n",
    "    = alp_utils.SignalInfo('MA', ticker_names, [], [], short_lookback, {})\n",
    "signal_info_dict[long_lookback_name]\\\n",
    "    = alp_utils.SignalInfo('MA', ticker_names, [], [], long_lookback, {})"
   ]
  },
  {
   "cell_type": "code",
   "execution_count": null,
   "metadata": {},
   "outputs": [],
   "source": [
    "# Subscribe to strategies\n",
    "strategy_info_dict = {}\n",
    "strategy_name = ticker_name + '_MACrossing_01'\n",
    "strategy_info_dict[strategy_name] = alp_utils.StrategyInfo(\n",
    "    'MACrossing',\n",
    "    [short_lookback_name, long_lookback_name],\n",
    "    1, {}, ticker_names, combo_definition={'combo1': [1.0]})"
   ]
  },
  {
   "cell_type": "code",
   "execution_count": null,
   "metadata": {},
   "outputs": [],
   "source": [
    "# Create backtester\n",
    "number_path = 100\n",
    "my_backtester = alp_bt.Backtester(all_input, ticker_names, signal_info_dict, strategy_info_dict,\n",
    "                                       number_path)\n",
    "my_backtester.run_backtest()\n",
    "backtest_results = my_backtester.get_results()"
   ]
  },
  {
   "cell_type": "code",
   "execution_count": null,
   "metadata": {},
   "outputs": [],
   "source": [
    "backtest_results = my_backtester.get_results()"
   ]
  },
  {
   "cell_type": "code",
   "execution_count": null,
   "metadata": {},
   "outputs": [],
   "source": [
    "import matplotlib.pyplot as plt"
   ]
  },
  {
   "cell_type": "code",
   "execution_count": null,
   "metadata": {},
   "outputs": [],
   "source": [
    "# Distribution of Sharpe ratio\n",
    "plt.hist(backtest_results[strategy_name][str(alp_bt.MetricType.PoorMansSharpeRatio)])"
   ]
  },
  {
   "cell_type": "code",
   "execution_count": null,
   "metadata": {},
   "outputs": [],
   "source": []
  }
 ],
 "metadata": {
  "kernelspec": {
   "display_name": "Python 3",
   "language": "python",
   "name": "python3"
  },
  "language_info": {
   "codemirror_mode": {
    "name": "ipython",
    "version": 3
   },
   "file_extension": ".py",
   "mimetype": "text/x-python",
   "name": "python",
   "nbconvert_exporter": "python",
   "pygments_lexer": "ipython3",
   "version": "3.7.6"
  }
 },
 "nbformat": 4,
 "nbformat_minor": 4
}
