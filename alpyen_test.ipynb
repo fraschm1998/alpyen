{
 "cells": [
  {
   "cell_type": "markdown",
   "metadata": {},
   "source": [
    "# Live Trading"
   ]
  },
  {
   "cell_type": "code",
   "execution_count": 1,
   "metadata": {},
   "outputs": [],
   "source": [
    "import alpyen.brokerinterface as alp_bi\n",
    "import alpyen.livetrading as alp_lt\n",
    "import alpyen.signal as alp_sig\n",
    "import alpyen.strategy as alp_str\n",
    "import alpyen.utils as alp_utils\n",
    "import alpyen.backtesting as alp_bt\n",
    "import alpyen.datacontainer as alp_dc"
   ]
  },
  {
   "cell_type": "code",
   "execution_count": 2,
   "metadata": {},
   "outputs": [],
   "source": [
    "from typing import List, Dict\n",
    "from eventkit import Event\n",
    "\n",
    "# Signal and Strategy for debugging live trading\n",
    "class TempSignal(alp_sig.SignalBase):\n",
    "    _signal_signature = 'TS'\n",
    "\n",
    "    def __init__(self,\n",
    "                 signature_str: str,\n",
    "                 input_data_array: List[Event],\n",
    "                 warmup_length: int) -> None:\n",
    "        self._signal_name = input_data_array[0].name() + \"_TS_\" + str(warmup_length)\n",
    "        self._signal_event = Event(self._signal_name)\n",
    "\n",
    "    def calculate_signal(self) -> int:\n",
    "        prices = self.get_data_by_name(self._input_data_array[0].name())\n",
    "        return round(prices[-1]/0.00001, 0) % 10\n",
    "    \n",
    "class TempStrategy(alp_str.StrategyBase):\n",
    "    _strategy_signature = 'TempStrategy'\n",
    "\n",
    "    def __init__(self,\n",
    "                 signature_str: str,\n",
    "                 input_signal_array: List[Event],\n",
    "                 trade_combo: alp_str.TradeCombos,\n",
    "                 warmup_length: int,\n",
    "                 initial_capital: float = 100.0,\n",
    "                 order_manager: alp_bi.OrderManagerBase = None) -> None:\n",
    "        self._strategy_name = 'My temp strategy'\n",
    "\n",
    "\n",
    "    def make_order_decision(self) -> Dict[str, float]:\n",
    "        signal_name = next(iter(self._signal_storage))\n",
    "        if self._signal_storage[signal_name][-1] >= 0 and self._signal_storage[signal_name][-1] < 2:\n",
    "            return {'combo_1': 2.0}\n",
    "        elif self._signal_storage[signal_name][-1] >= 2 and self._signal_storage[signal_name][-1] < 4:\n",
    "            return {'combo_1': -2.0}\n",
    "        elif self._signal_storage[signal_name][-1] >= 4 and self._signal_storage[signal_name][-1] < 6:\n",
    "            return {'combo_2': 3.0}\n",
    "        elif self._signal_storage[signal_name][-1] >= 6 and self._signal_storage[signal_name][-1] < 8:\n",
    "            return {'combo_2': -3.0}\n",
    "        else:\n",
    "            return {'combo_3': 1.0}"
   ]
  },
  {
   "cell_type": "code",
   "execution_count": 3,
   "metadata": {},
   "outputs": [],
   "source": [
    "input_tickers = ['EURUSD']\n",
    "trade_tickers = ['EURUSD', 'GBPUSD', 'CHFUSD']\n",
    "signal_info_dict = {}\n",
    "\n",
    "for ticker in input_tickers:\n",
    "    signal_info_dict[ticker + '_TS_1'] = alp_utils.SignalInfo('TS', [ticker],\n",
    "                                                          [alp_utils.ContractType.FX],\n",
    "                                                          [alp_utils.PriceOHLCType.Close], 2, {})\n",
    "\n",
    "# Subscribe to strategies\n",
    "strategy_info_dict = {}\n",
    "strategy_name = 'Temp_Strategy'\n",
    "trade_combo = {'combo_1': [-50.0, 100.0, 0.0],\n",
    "               'combo_2': [-100.0, 0.0, -60.0],\n",
    "               'combo_3': [0.0, -100.0, 70.0]}\n",
    "strategy_info_dict[strategy_name] = alp_utils.StrategyInfo(\n",
    "    'TempStrategy', [ticker + '_TS_1' for ticker in input_tickers],\n",
    "    1, {},\n",
    "    trade_tickers, [alp_utils.ContractType.FX] * 3, trade_combo)"
   ]
  },
  {
   "cell_type": "code",
   "execution_count": 10,
   "metadata": {
    "scrolled": false
   },
   "outputs": [
    {
     "name": "stderr",
     "output_type": "stream",
     "text": [
      "Peer closed connection. clientId 1 already in use?\n",
      "API connection failed: TimeoutError()\n"
     ]
    },
    {
     "ename": "TimeoutError",
     "evalue": "",
     "output_type": "error",
     "traceback": [
      "\u001b[1;31m---------------------------------------------------------------------------\u001b[0m",
      "\u001b[1;31mTimeoutError\u001b[0m                              Traceback (most recent call last)",
      "\u001b[1;32m<ipython-input-10-afa900f4e3d2>\u001b[0m in \u001b[0;36m<module>\u001b[1;34m\u001b[0m\n\u001b[0;32m     20\u001b[0m \u001b[0mpath_to_control_file\u001b[0m \u001b[1;33m=\u001b[0m \u001b[1;34m'test_control_nb.yml'\u001b[0m\u001b[1;33m\u001b[0m\u001b[1;33m\u001b[0m\u001b[0m\n\u001b[0;32m     21\u001b[0m \u001b[0mmy_trader\u001b[0m \u001b[1;33m=\u001b[0m \u001b[0mJupyterLiveTrader\u001b[0m\u001b[1;33m(\u001b[0m\u001b[1;34m'IB'\u001b[0m\u001b[1;33m,\u001b[0m \u001b[0msignal_info_dict\u001b[0m\u001b[1;33m,\u001b[0m \u001b[0mstrategy_info_dict\u001b[0m\u001b[1;33m,\u001b[0m \u001b[0mpath_to_control_file\u001b[0m\u001b[1;33m)\u001b[0m\u001b[1;33m\u001b[0m\u001b[1;33m\u001b[0m\u001b[0m\n\u001b[1;32m---> 22\u001b[1;33m \u001b[0mmy_trader\u001b[0m\u001b[1;33m.\u001b[0m\u001b[0mstart_trading\u001b[0m\u001b[1;33m(\u001b[0m\u001b[1;33m)\u001b[0m\u001b[1;33m\u001b[0m\u001b[1;33m\u001b[0m\u001b[0m\n\u001b[0m",
      "\u001b[1;32m<ipython-input-10-afa900f4e3d2>\u001b[0m in \u001b[0;36mstart_trading\u001b[1;34m(self)\u001b[0m\n\u001b[0;32m     11\u001b[0m         \u001b[0mStart\u001b[0m \u001b[0mlive\u001b[0m \u001b[0mtrading\u001b[0m\u001b[1;33m.\u001b[0m\u001b[1;33m\u001b[0m\u001b[1;33m\u001b[0m\u001b[0m\n\u001b[0;32m     12\u001b[0m         \"\"\"\n\u001b[1;32m---> 13\u001b[1;33m         \u001b[1;32mwith\u001b[0m \u001b[0mself\u001b[0m\u001b[1;33m.\u001b[0m\u001b[0msetup\u001b[0m\u001b[1;33m(\u001b[0m\u001b[1;33m)\u001b[0m \u001b[1;32mas\u001b[0m \u001b[1;33m(\u001b[0m\u001b[0msignal_dict\u001b[0m\u001b[1;33m,\u001b[0m \u001b[0mstrategy_dict\u001b[0m\u001b[1;33m)\u001b[0m\u001b[1;33m:\u001b[0m\u001b[1;33m\u001b[0m\u001b[1;33m\u001b[0m\u001b[0m\n\u001b[0m\u001b[0;32m     14\u001b[0m             \u001b[0mevent_loop\u001b[0m \u001b[1;33m=\u001b[0m \u001b[0masyncio\u001b[0m\u001b[1;33m.\u001b[0m\u001b[0mnew_event_loop\u001b[0m\u001b[1;33m(\u001b[0m\u001b[1;33m)\u001b[0m\u001b[1;33m\u001b[0m\u001b[1;33m\u001b[0m\u001b[0m\n\u001b[0;32m     15\u001b[0m \u001b[1;33m\u001b[0m\u001b[0m\n",
      "\u001b[1;32mD:\\ProgramData\\Anaconda3\\lib\\contextlib.py\u001b[0m in \u001b[0;36m__enter__\u001b[1;34m(self)\u001b[0m\n\u001b[0;32m    110\u001b[0m         \u001b[1;32mdel\u001b[0m \u001b[0mself\u001b[0m\u001b[1;33m.\u001b[0m\u001b[0margs\u001b[0m\u001b[1;33m,\u001b[0m \u001b[0mself\u001b[0m\u001b[1;33m.\u001b[0m\u001b[0mkwds\u001b[0m\u001b[1;33m,\u001b[0m \u001b[0mself\u001b[0m\u001b[1;33m.\u001b[0m\u001b[0mfunc\u001b[0m\u001b[1;33m\u001b[0m\u001b[1;33m\u001b[0m\u001b[0m\n\u001b[0;32m    111\u001b[0m         \u001b[1;32mtry\u001b[0m\u001b[1;33m:\u001b[0m\u001b[1;33m\u001b[0m\u001b[1;33m\u001b[0m\u001b[0m\n\u001b[1;32m--> 112\u001b[1;33m             \u001b[1;32mreturn\u001b[0m \u001b[0mnext\u001b[0m\u001b[1;33m(\u001b[0m\u001b[0mself\u001b[0m\u001b[1;33m.\u001b[0m\u001b[0mgen\u001b[0m\u001b[1;33m)\u001b[0m\u001b[1;33m\u001b[0m\u001b[1;33m\u001b[0m\u001b[0m\n\u001b[0m\u001b[0;32m    113\u001b[0m         \u001b[1;32mexcept\u001b[0m \u001b[0mStopIteration\u001b[0m\u001b[1;33m:\u001b[0m\u001b[1;33m\u001b[0m\u001b[1;33m\u001b[0m\u001b[0m\n\u001b[0;32m    114\u001b[0m             \u001b[1;32mraise\u001b[0m \u001b[0mRuntimeError\u001b[0m\u001b[1;33m(\u001b[0m\u001b[1;34m\"generator didn't yield\"\u001b[0m\u001b[1;33m)\u001b[0m \u001b[1;32mfrom\u001b[0m \u001b[1;32mNone\u001b[0m\u001b[1;33m\u001b[0m\u001b[1;33m\u001b[0m\u001b[0m\n",
      "\u001b[1;32mD:\\Git\\alPyne\\alpyen\\livetrading.py\u001b[0m in \u001b[0;36msetup\u001b[1;34m(self)\u001b[0m\n\u001b[0;32m     75\u001b[0m     \u001b[1;33m@\u001b[0m\u001b[0mcontextmanager\u001b[0m\u001b[1;33m\u001b[0m\u001b[1;33m\u001b[0m\u001b[0m\n\u001b[0;32m     76\u001b[0m     \u001b[1;32mdef\u001b[0m \u001b[0msetup\u001b[0m\u001b[1;33m(\u001b[0m\u001b[0mself\u001b[0m\u001b[1;33m)\u001b[0m \u001b[1;33m->\u001b[0m \u001b[1;32mNone\u001b[0m\u001b[1;33m:\u001b[0m\u001b[1;33m\u001b[0m\u001b[1;33m\u001b[0m\u001b[0m\n\u001b[1;32m---> 77\u001b[1;33m         \u001b[0mself\u001b[0m\u001b[1;33m.\u001b[0m\u001b[0mget_broker\u001b[0m\u001b[1;33m(\u001b[0m\u001b[1;33m)\u001b[0m\u001b[1;33m.\u001b[0m\u001b[0mconnect\u001b[0m\u001b[1;33m(\u001b[0m\u001b[1;33m)\u001b[0m\u001b[1;33m\u001b[0m\u001b[1;33m\u001b[0m\u001b[0m\n\u001b[0m\u001b[0;32m     78\u001b[0m         \u001b[1;31m# Create broker relays\u001b[0m\u001b[1;33m\u001b[0m\u001b[1;33m\u001b[0m\u001b[1;33m\u001b[0m\u001b[0m\n\u001b[0;32m     79\u001b[0m         \u001b[0mrelay_dict\u001b[0m \u001b[1;33m=\u001b[0m \u001b[0mself\u001b[0m\u001b[1;33m.\u001b[0m\u001b[0mcreate_relay_dict\u001b[0m\u001b[1;33m(\u001b[0m\u001b[1;33m)\u001b[0m\u001b[1;33m\u001b[0m\u001b[1;33m\u001b[0m\u001b[0m\n",
      "\u001b[1;32mD:\\Git\\alPyne\\alpyen\\brokerinterface.py\u001b[0m in \u001b[0;36mconnect\u001b[1;34m(self, address, port, client_id)\u001b[0m\n\u001b[0;32m    212\u001b[0m                 \u001b[0mport\u001b[0m\u001b[1;33m:\u001b[0m \u001b[0mint\u001b[0m \u001b[1;33m=\u001b[0m \u001b[1;36m4002\u001b[0m\u001b[1;33m,\u001b[0m\u001b[1;33m\u001b[0m\u001b[1;33m\u001b[0m\u001b[0m\n\u001b[0;32m    213\u001b[0m                 client_id: int = 1) -> None:\n\u001b[1;32m--> 214\u001b[1;33m         \u001b[0mself\u001b[0m\u001b[1;33m.\u001b[0m\u001b[0mget_handle\u001b[0m\u001b[1;33m(\u001b[0m\u001b[1;33m)\u001b[0m\u001b[1;33m.\u001b[0m\u001b[0mconnect\u001b[0m\u001b[1;33m(\u001b[0m\u001b[0maddress\u001b[0m\u001b[1;33m,\u001b[0m \u001b[0mport\u001b[0m\u001b[1;33m,\u001b[0m \u001b[0mclientId\u001b[0m\u001b[1;33m=\u001b[0m\u001b[0mclient_id\u001b[0m\u001b[1;33m)\u001b[0m\u001b[1;33m\u001b[0m\u001b[1;33m\u001b[0m\u001b[0m\n\u001b[0m\u001b[0;32m    215\u001b[0m \u001b[1;33m\u001b[0m\u001b[0m\n\u001b[0;32m    216\u001b[0m     async def async_connect(self,\n",
      "\u001b[1;32mD:\\ProgramData\\Anaconda3\\lib\\site-packages\\ib_insync-0.9.66-py3.7.egg\\ib_insync\\ib.py\u001b[0m in \u001b[0;36mconnect\u001b[1;34m(self, host, port, clientId, timeout, readonly, account)\u001b[0m\n\u001b[0;32m    270\u001b[0m         \"\"\"\n\u001b[0;32m    271\u001b[0m         return self._run(self.connectAsync(\n\u001b[1;32m--> 272\u001b[1;33m             host, port, clientId, timeout, readonly, account))\n\u001b[0m\u001b[0;32m    273\u001b[0m \u001b[1;33m\u001b[0m\u001b[0m\n\u001b[0;32m    274\u001b[0m     \u001b[1;32mdef\u001b[0m \u001b[0mdisconnect\u001b[0m\u001b[1;33m(\u001b[0m\u001b[0mself\u001b[0m\u001b[1;33m)\u001b[0m\u001b[1;33m:\u001b[0m\u001b[1;33m\u001b[0m\u001b[1;33m\u001b[0m\u001b[0m\n",
      "\u001b[1;32mD:\\ProgramData\\Anaconda3\\lib\\site-packages\\ib_insync-0.9.66-py3.7.egg\\ib_insync\\ib.py\u001b[0m in \u001b[0;36m_run\u001b[1;34m(self, *awaitables)\u001b[0m\n\u001b[0;32m    308\u001b[0m \u001b[1;33m\u001b[0m\u001b[0m\n\u001b[0;32m    309\u001b[0m     \u001b[1;32mdef\u001b[0m \u001b[0m_run\u001b[0m\u001b[1;33m(\u001b[0m\u001b[0mself\u001b[0m\u001b[1;33m,\u001b[0m \u001b[1;33m*\u001b[0m\u001b[0mawaitables\u001b[0m\u001b[1;33m:\u001b[0m \u001b[0mAwaitable\u001b[0m\u001b[1;33m)\u001b[0m\u001b[1;33m:\u001b[0m\u001b[1;33m\u001b[0m\u001b[1;33m\u001b[0m\u001b[0m\n\u001b[1;32m--> 310\u001b[1;33m         \u001b[1;32mreturn\u001b[0m \u001b[0mutil\u001b[0m\u001b[1;33m.\u001b[0m\u001b[0mrun\u001b[0m\u001b[1;33m(\u001b[0m\u001b[1;33m*\u001b[0m\u001b[0mawaitables\u001b[0m\u001b[1;33m,\u001b[0m \u001b[0mtimeout\u001b[0m\u001b[1;33m=\u001b[0m\u001b[0mself\u001b[0m\u001b[1;33m.\u001b[0m\u001b[0mRequestTimeout\u001b[0m\u001b[1;33m)\u001b[0m\u001b[1;33m\u001b[0m\u001b[1;33m\u001b[0m\u001b[0m\n\u001b[0m\u001b[0;32m    311\u001b[0m \u001b[1;33m\u001b[0m\u001b[0m\n\u001b[0;32m    312\u001b[0m     \u001b[1;32mdef\u001b[0m \u001b[0mwaitOnUpdate\u001b[0m\u001b[1;33m(\u001b[0m\u001b[0mself\u001b[0m\u001b[1;33m,\u001b[0m \u001b[0mtimeout\u001b[0m\u001b[1;33m:\u001b[0m \u001b[0mfloat\u001b[0m \u001b[1;33m=\u001b[0m \u001b[1;36m0\u001b[0m\u001b[1;33m)\u001b[0m \u001b[1;33m->\u001b[0m \u001b[0mbool\u001b[0m\u001b[1;33m:\u001b[0m\u001b[1;33m\u001b[0m\u001b[1;33m\u001b[0m\u001b[0m\n",
      "\u001b[1;32mD:\\ProgramData\\Anaconda3\\lib\\site-packages\\ib_insync-0.9.66-py3.7.egg\\ib_insync\\util.py\u001b[0m in \u001b[0;36mrun\u001b[1;34m(timeout, *awaitables)\u001b[0m\n\u001b[0;32m    320\u001b[0m         \u001b[0mglobalErrorEvent\u001b[0m\u001b[1;33m.\u001b[0m\u001b[0mconnect\u001b[0m\u001b[1;33m(\u001b[0m\u001b[0monError\u001b[0m\u001b[1;33m)\u001b[0m\u001b[1;33m\u001b[0m\u001b[1;33m\u001b[0m\u001b[0m\n\u001b[0;32m    321\u001b[0m         \u001b[1;32mtry\u001b[0m\u001b[1;33m:\u001b[0m\u001b[1;33m\u001b[0m\u001b[1;33m\u001b[0m\u001b[0m\n\u001b[1;32m--> 322\u001b[1;33m             \u001b[0mresult\u001b[0m \u001b[1;33m=\u001b[0m \u001b[0mloop\u001b[0m\u001b[1;33m.\u001b[0m\u001b[0mrun_until_complete\u001b[0m\u001b[1;33m(\u001b[0m\u001b[0mtask\u001b[0m\u001b[1;33m)\u001b[0m\u001b[1;33m\u001b[0m\u001b[1;33m\u001b[0m\u001b[0m\n\u001b[0m\u001b[0;32m    323\u001b[0m         \u001b[1;32mexcept\u001b[0m \u001b[0masyncio\u001b[0m\u001b[1;33m.\u001b[0m\u001b[0mCancelledError\u001b[0m \u001b[1;32mas\u001b[0m \u001b[0me\u001b[0m\u001b[1;33m:\u001b[0m\u001b[1;33m\u001b[0m\u001b[1;33m\u001b[0m\u001b[0m\n\u001b[0;32m    324\u001b[0m             \u001b[1;32mraise\u001b[0m \u001b[0mglobalErrorEvent\u001b[0m\u001b[1;33m.\u001b[0m\u001b[0mvalue\u001b[0m\u001b[1;33m(\u001b[0m\u001b[1;33m)\u001b[0m \u001b[1;32mor\u001b[0m \u001b[0me\u001b[0m\u001b[1;33m\u001b[0m\u001b[1;33m\u001b[0m\u001b[0m\n",
      "\u001b[1;32mD:\\ProgramData\\Anaconda3\\lib\\site-packages\\nest_asyncio-1.5.1-py3.7.egg\\nest_asyncio.py\u001b[0m in \u001b[0;36mrun_until_complete\u001b[1;34m(self, future)\u001b[0m\n\u001b[0;32m     68\u001b[0m                 raise RuntimeError(\n\u001b[0;32m     69\u001b[0m                     'Event loop stopped before Future completed.')\n\u001b[1;32m---> 70\u001b[1;33m             \u001b[1;32mreturn\u001b[0m \u001b[0mf\u001b[0m\u001b[1;33m.\u001b[0m\u001b[0mresult\u001b[0m\u001b[1;33m(\u001b[0m\u001b[1;33m)\u001b[0m\u001b[1;33m\u001b[0m\u001b[1;33m\u001b[0m\u001b[0m\n\u001b[0m\u001b[0;32m     71\u001b[0m \u001b[1;33m\u001b[0m\u001b[0m\n\u001b[0;32m     72\u001b[0m     \u001b[1;32mdef\u001b[0m \u001b[0m_run_once\u001b[0m\u001b[1;33m(\u001b[0m\u001b[0mself\u001b[0m\u001b[1;33m)\u001b[0m\u001b[1;33m:\u001b[0m\u001b[1;33m\u001b[0m\u001b[1;33m\u001b[0m\u001b[0m\n",
      "\u001b[1;32mD:\\ProgramData\\Anaconda3\\lib\\asyncio\\futures.py\u001b[0m in \u001b[0;36mresult\u001b[1;34m(self)\u001b[0m\n\u001b[0;32m    179\u001b[0m         \u001b[0mself\u001b[0m\u001b[1;33m.\u001b[0m\u001b[0m__log_traceback\u001b[0m \u001b[1;33m=\u001b[0m \u001b[1;32mFalse\u001b[0m\u001b[1;33m\u001b[0m\u001b[1;33m\u001b[0m\u001b[0m\n\u001b[0;32m    180\u001b[0m         \u001b[1;32mif\u001b[0m \u001b[0mself\u001b[0m\u001b[1;33m.\u001b[0m\u001b[0m_exception\u001b[0m \u001b[1;32mis\u001b[0m \u001b[1;32mnot\u001b[0m \u001b[1;32mNone\u001b[0m\u001b[1;33m:\u001b[0m\u001b[1;33m\u001b[0m\u001b[1;33m\u001b[0m\u001b[0m\n\u001b[1;32m--> 181\u001b[1;33m             \u001b[1;32mraise\u001b[0m \u001b[0mself\u001b[0m\u001b[1;33m.\u001b[0m\u001b[0m_exception\u001b[0m\u001b[1;33m\u001b[0m\u001b[1;33m\u001b[0m\u001b[0m\n\u001b[0m\u001b[0;32m    182\u001b[0m         \u001b[1;32mreturn\u001b[0m \u001b[0mself\u001b[0m\u001b[1;33m.\u001b[0m\u001b[0m_result\u001b[0m\u001b[1;33m\u001b[0m\u001b[1;33m\u001b[0m\u001b[0m\n\u001b[0;32m    183\u001b[0m \u001b[1;33m\u001b[0m\u001b[0m\n",
      "\u001b[1;32mD:\\ProgramData\\Anaconda3\\lib\\asyncio\\tasks.py\u001b[0m in \u001b[0;36m__step\u001b[1;34m(***failed resolving arguments***)\u001b[0m\n\u001b[0;32m    247\u001b[0m                 \u001b[1;31m# We use the `send` method directly, because coroutines\u001b[0m\u001b[1;33m\u001b[0m\u001b[1;33m\u001b[0m\u001b[1;33m\u001b[0m\u001b[0m\n\u001b[0;32m    248\u001b[0m                 \u001b[1;31m# don't have `__iter__` and `__next__` methods.\u001b[0m\u001b[1;33m\u001b[0m\u001b[1;33m\u001b[0m\u001b[1;33m\u001b[0m\u001b[0m\n\u001b[1;32m--> 249\u001b[1;33m                 \u001b[0mresult\u001b[0m \u001b[1;33m=\u001b[0m \u001b[0mcoro\u001b[0m\u001b[1;33m.\u001b[0m\u001b[0msend\u001b[0m\u001b[1;33m(\u001b[0m\u001b[1;32mNone\u001b[0m\u001b[1;33m)\u001b[0m\u001b[1;33m\u001b[0m\u001b[1;33m\u001b[0m\u001b[0m\n\u001b[0m\u001b[0;32m    250\u001b[0m             \u001b[1;32melse\u001b[0m\u001b[1;33m:\u001b[0m\u001b[1;33m\u001b[0m\u001b[1;33m\u001b[0m\u001b[0m\n\u001b[0;32m    251\u001b[0m                 \u001b[0mresult\u001b[0m \u001b[1;33m=\u001b[0m \u001b[0mcoro\u001b[0m\u001b[1;33m.\u001b[0m\u001b[0mthrow\u001b[0m\u001b[1;33m(\u001b[0m\u001b[0mexc\u001b[0m\u001b[1;33m)\u001b[0m\u001b[1;33m\u001b[0m\u001b[1;33m\u001b[0m\u001b[0m\n",
      "\u001b[1;32mD:\\ProgramData\\Anaconda3\\lib\\site-packages\\ib_insync-0.9.66-py3.7.egg\\ib_insync\\ib.py\u001b[0m in \u001b[0;36mconnectAsync\u001b[1;34m(self, host, port, clientId, timeout, readonly, account)\u001b[0m\n\u001b[0;32m   1624\u001b[0m         \u001b[1;32mtry\u001b[0m\u001b[1;33m:\u001b[0m\u001b[1;33m\u001b[0m\u001b[1;33m\u001b[0m\u001b[0m\n\u001b[0;32m   1625\u001b[0m             \u001b[1;31m# establish API connection\u001b[0m\u001b[1;33m\u001b[0m\u001b[1;33m\u001b[0m\u001b[1;33m\u001b[0m\u001b[0m\n\u001b[1;32m-> 1626\u001b[1;33m             \u001b[1;32mawait\u001b[0m \u001b[0mself\u001b[0m\u001b[1;33m.\u001b[0m\u001b[0mclient\u001b[0m\u001b[1;33m.\u001b[0m\u001b[0mconnectAsync\u001b[0m\u001b[1;33m(\u001b[0m\u001b[0mhost\u001b[0m\u001b[1;33m,\u001b[0m \u001b[0mport\u001b[0m\u001b[1;33m,\u001b[0m \u001b[0mclientId\u001b[0m\u001b[1;33m,\u001b[0m \u001b[0mtimeout\u001b[0m\u001b[1;33m)\u001b[0m\u001b[1;33m\u001b[0m\u001b[1;33m\u001b[0m\u001b[0m\n\u001b[0m\u001b[0;32m   1627\u001b[0m \u001b[1;33m\u001b[0m\u001b[0m\n\u001b[0;32m   1628\u001b[0m             \u001b[1;31m# autobind manual orders\u001b[0m\u001b[1;33m\u001b[0m\u001b[1;33m\u001b[0m\u001b[1;33m\u001b[0m\u001b[0m\n",
      "\u001b[1;32mD:\\ProgramData\\Anaconda3\\lib\\site-packages\\ib_insync-0.9.66-py3.7.egg\\ib_insync\\client.py\u001b[0m in \u001b[0;36mconnectAsync\u001b[1;34m(self, host, port, clientId, timeout)\u001b[0m\n\u001b[0;32m    216\u001b[0m                 b' ' + self.connectOptions if self.connectOptions else b''))\n\u001b[0;32m    217\u001b[0m             \u001b[0mself\u001b[0m\u001b[1;33m.\u001b[0m\u001b[0mconn\u001b[0m\u001b[1;33m.\u001b[0m\u001b[0msendMsg\u001b[0m\u001b[1;33m(\u001b[0m\u001b[0mmsg\u001b[0m\u001b[1;33m)\u001b[0m\u001b[1;33m\u001b[0m\u001b[1;33m\u001b[0m\u001b[0m\n\u001b[1;32m--> 218\u001b[1;33m             \u001b[1;32mawait\u001b[0m \u001b[0masyncio\u001b[0m\u001b[1;33m.\u001b[0m\u001b[0mwait_for\u001b[0m\u001b[1;33m(\u001b[0m\u001b[0mself\u001b[0m\u001b[1;33m.\u001b[0m\u001b[0mapiStart\u001b[0m\u001b[1;33m,\u001b[0m \u001b[0mtimeout\u001b[0m\u001b[1;33m)\u001b[0m\u001b[1;33m\u001b[0m\u001b[1;33m\u001b[0m\u001b[0m\n\u001b[0m\u001b[0;32m    219\u001b[0m             \u001b[0mself\u001b[0m\u001b[1;33m.\u001b[0m\u001b[0m_logger\u001b[0m\u001b[1;33m.\u001b[0m\u001b[0minfo\u001b[0m\u001b[1;33m(\u001b[0m\u001b[1;34m'API connection ready'\u001b[0m\u001b[1;33m)\u001b[0m\u001b[1;33m\u001b[0m\u001b[1;33m\u001b[0m\u001b[0m\n\u001b[0;32m    220\u001b[0m         \u001b[1;32mexcept\u001b[0m \u001b[0mException\u001b[0m \u001b[1;32mas\u001b[0m \u001b[0me\u001b[0m\u001b[1;33m:\u001b[0m\u001b[1;33m\u001b[0m\u001b[1;33m\u001b[0m\u001b[0m\n",
      "\u001b[1;32mD:\\ProgramData\\Anaconda3\\lib\\asyncio\\tasks.py\u001b[0m in \u001b[0;36mwait_for\u001b[1;34m(fut, timeout, loop)\u001b[0m\n\u001b[0;32m    447\u001b[0m             \u001b[1;31m# See https://bugs.python.org/issue32751\u001b[0m\u001b[1;33m\u001b[0m\u001b[1;33m\u001b[0m\u001b[1;33m\u001b[0m\u001b[0m\n\u001b[0;32m    448\u001b[0m             \u001b[1;32mawait\u001b[0m \u001b[0m_cancel_and_wait\u001b[0m\u001b[1;33m(\u001b[0m\u001b[0mfut\u001b[0m\u001b[1;33m,\u001b[0m \u001b[0mloop\u001b[0m\u001b[1;33m=\u001b[0m\u001b[0mloop\u001b[0m\u001b[1;33m)\u001b[0m\u001b[1;33m\u001b[0m\u001b[1;33m\u001b[0m\u001b[0m\n\u001b[1;32m--> 449\u001b[1;33m             \u001b[1;32mraise\u001b[0m \u001b[0mfutures\u001b[0m\u001b[1;33m.\u001b[0m\u001b[0mTimeoutError\u001b[0m\u001b[1;33m(\u001b[0m\u001b[1;33m)\u001b[0m\u001b[1;33m\u001b[0m\u001b[1;33m\u001b[0m\u001b[0m\n\u001b[0m\u001b[0;32m    450\u001b[0m     \u001b[1;32mfinally\u001b[0m\u001b[1;33m:\u001b[0m\u001b[1;33m\u001b[0m\u001b[1;33m\u001b[0m\u001b[0m\n\u001b[0;32m    451\u001b[0m         \u001b[0mtimeout_handle\u001b[0m\u001b[1;33m.\u001b[0m\u001b[0mcancel\u001b[0m\u001b[1;33m(\u001b[0m\u001b[1;33m)\u001b[0m\u001b[1;33m\u001b[0m\u001b[1;33m\u001b[0m\u001b[0m\n",
      "\u001b[1;31mTimeoutError\u001b[0m: "
     ]
    },
    {
     "name": "stderr",
     "output_type": "stream",
     "text": [
      "Error 1300, reqId -1: Socket port has been reset and this connection is being dropped. Please reconnect on the new port -4003\n",
      "Peer closed connection.\n"
     ]
    }
   ],
   "source": [
    "import threading\n",
    "import asyncio\n",
    "\n",
    "ib_api = alp_bi.BrokerAPIBase('IB')\n",
    "ib_api.connect(port=4002)\n",
    "    \n",
    "# Create live trader\n",
    "class JupyterLiveTrader(alp_lt.LiveTrader):\n",
    "    def start_trading(self) -> None:\n",
    "        \"\"\"\n",
    "        Start live trading.\n",
    "        \"\"\"\n",
    "        with self.setup() as (signal_dict, strategy_dict):\n",
    "            event_loop = asyncio.new_event_loop()\n",
    "\n",
    "            task = event_loop.create_task(self.async_sleep())\n",
    "            event_loop.run_until_complete(task)\n",
    "    \n",
    "# Create live trader\n",
    "path_to_control_file = 'test_control_nb.yml'\n",
    "my_trader = JupyterLiveTrader('IB', signal_info_dict, strategy_info_dict, path_to_control_file)\n",
    "my_trader.start_trading()\n"
   ]
  },
  {
   "cell_type": "code",
   "execution_count": 11,
   "metadata": {},
   "outputs": [
    {
     "data": {
      "text/plain": [
       "True"
      ]
     },
     "execution_count": 11,
     "metadata": {},
     "output_type": "execute_result"
    }
   ],
   "source": [
    "my_trader.get_is_trading()"
   ]
  },
  {
   "cell_type": "code",
   "execution_count": 12,
   "metadata": {},
   "outputs": [
    {
     "data": {
      "text/html": [
       "<div>\n",
       "<style scoped>\n",
       "    .dataframe tbody tr th:only-of-type {\n",
       "        vertical-align: middle;\n",
       "    }\n",
       "\n",
       "    .dataframe tbody tr th {\n",
       "        vertical-align: top;\n",
       "    }\n",
       "\n",
       "    .dataframe thead th {\n",
       "        text-align: right;\n",
       "    }\n",
       "</style>\n",
       "<table border=\"1\" class=\"dataframe\">\n",
       "  <thead>\n",
       "    <tr style=\"text-align: right;\">\n",
       "      <th></th>\n",
       "      <th>strategy_name</th>\n",
       "      <th>combo_name</th>\n",
       "      <th>combo_position</th>\n",
       "      <th>combo_entry_price</th>\n",
       "      <th>combo_mtm_price</th>\n",
       "      <th>unrealized_pnl</th>\n",
       "      <th>realized_pnl</th>\n",
       "    </tr>\n",
       "  </thead>\n",
       "  <tbody>\n",
       "  </tbody>\n",
       "</table>\n",
       "</div>"
      ],
      "text/plain": [
       "Empty DataFrame\n",
       "Columns: [strategy_name, combo_name, combo_position, combo_entry_price, combo_mtm_price, unrealized_pnl, realized_pnl]\n",
       "Index: []"
      ]
     },
     "execution_count": 12,
     "metadata": {},
     "output_type": "execute_result"
    }
   ],
   "source": [
    "portfolio_df = my_trader.get_portfolio_manager().get_portfolio_info()\n",
    "portfolio_df"
   ]
  },
  {
   "cell_type": "code",
   "execution_count": 8,
   "metadata": {},
   "outputs": [],
   "source": [
    "my_trader.disconnect()"
   ]
  },
  {
   "cell_type": "markdown",
   "metadata": {},
   "source": [
    "# Backtesting"
   ]
  },
  {
   "cell_type": "code",
   "execution_count": null,
   "metadata": {},
   "outputs": [],
   "source": [
    "# Read data\n",
    "data_folder_path = 'tests\\\\Data\\\\'\n",
    "ticker_name = 'BBH'\n",
    "short_lookback = 5\n",
    "long_lookback = 200\n",
    "short_lookback_name = ticker_name + '_MA_' + str(short_lookback)\n",
    "long_lookback_name = ticker_name + '_MA_' + str(long_lookback)\n",
    "ticker_names = [ticker_name]\n",
    "all_input = alp_dc.DataUtils.aggregate_yahoo_data(ticker_names, data_folder_path)"
   ]
  },
  {
   "cell_type": "code",
   "execution_count": null,
   "metadata": {},
   "outputs": [],
   "source": [
    "# Subscribe to signals\n",
    "signal_info_dict = {}\n",
    "signal_info_dict[short_lookback_name]\\\n",
    "    = alp_utils.SignalInfo('MA', ticker_names, [], [], short_lookback, {})\n",
    "signal_info_dict[long_lookback_name]\\\n",
    "    = alp_utils.SignalInfo('MA', ticker_names, [], [], long_lookback, {})"
   ]
  },
  {
   "cell_type": "code",
   "execution_count": null,
   "metadata": {},
   "outputs": [],
   "source": [
    "# Subscribe to strategies\n",
    "strategy_info_dict = {}\n",
    "strategy_name = ticker_name + '_MACrossing_01'\n",
    "strategy_info_dict[strategy_name] = alp_utils.StrategyInfo(\n",
    "    'MACrossing',\n",
    "    [short_lookback_name, long_lookback_name],\n",
    "    1, {}, ticker_names, combo_definition={'combo1': [1.0]})"
   ]
  },
  {
   "cell_type": "code",
   "execution_count": null,
   "metadata": {},
   "outputs": [],
   "source": [
    "# Create backtester\n",
    "number_path = 100\n",
    "my_backtester = alp_bt.Backtester(all_input, ticker_names, signal_info_dict, strategy_info_dict,\n",
    "                                       number_path)\n",
    "my_backtester.run_backtest()\n",
    "backtest_results = my_backtester.get_results()"
   ]
  },
  {
   "cell_type": "code",
   "execution_count": null,
   "metadata": {},
   "outputs": [],
   "source": [
    "backtest_results = my_backtester.get_results()"
   ]
  },
  {
   "cell_type": "code",
   "execution_count": null,
   "metadata": {},
   "outputs": [],
   "source": [
    "import matplotlib.pyplot as plt"
   ]
  },
  {
   "cell_type": "code",
   "execution_count": null,
   "metadata": {},
   "outputs": [],
   "source": [
    "# Distribution of Sharpe ratio\n",
    "plt.hist(backtest_results[strategy_name][str(alp_bt.MetricType.PoorMansSharpeRatio)])"
   ]
  },
  {
   "cell_type": "markdown",
   "metadata": {},
   "source": [
    "# Portfolio"
   ]
  },
  {
   "cell_type": "code",
   "execution_count": 2,
   "metadata": {},
   "outputs": [],
   "source": [
    "ib_api = alp_bi.BrokerAPIBase('IB')\n",
    "ib_api.connect(port=4002)"
   ]
  },
  {
   "cell_type": "code",
   "execution_count": 3,
   "metadata": {},
   "outputs": [
    {
     "name": "stdout",
     "output_type": "stream",
     "text": [
      "[AccountValue(account='DU1786171', tag='AccountType', value='INDIVIDUAL', currency='', modelCode=''), AccountValue(account='DU1786171', tag='Cushion', value='0.972743', currency='', modelCode=''), AccountValue(account='DU1786171', tag='LookAheadNextChange', value='1642429800', currency='', modelCode=''), AccountValue(account='DU1786171', tag='AccruedCash', value='-687.29', currency='USD', modelCode=''), AccountValue(account='DU1786171', tag='AvailableFunds', value='954852.42', currency='USD', modelCode=''), AccountValue(account='DU1786171', tag='BuyingPower', value='6365682.81', currency='USD', modelCode=''), AccountValue(account='DU1786171', tag='EquityWithLoanValue', value='997813.37', currency='USD', modelCode=''), AccountValue(account='DU1786171', tag='ExcessLiquidity', value='970646.13', currency='USD', modelCode=''), AccountValue(account='DU1786171', tag='FullAvailableFunds', value='954852.42', currency='USD', modelCode=''), AccountValue(account='DU1786171', tag='FullExcessLiquidity', value='970646.13', currency='USD', modelCode=''), AccountValue(account='DU1786171', tag='FullInitMarginReq', value='42960.95', currency='USD', modelCode=''), AccountValue(account='DU1786171', tag='FullMaintMarginReq', value='27198.61', currency='USD', modelCode=''), AccountValue(account='DU1786171', tag='GrossPositionValue', value='46542.00', currency='USD', modelCode=''), AccountValue(account='DU1786171', tag='InitMarginReq', value='42960.95', currency='USD', modelCode=''), AccountValue(account='DU1786171', tag='LookAheadAvailableFunds', value='954852.42', currency='USD', modelCode=''), AccountValue(account='DU1786171', tag='LookAheadExcessLiquidity', value='970646.13', currency='USD', modelCode=''), AccountValue(account='DU1786171', tag='LookAheadInitMarginReq', value='42960.95', currency='USD', modelCode=''), AccountValue(account='DU1786171', tag='LookAheadMaintMarginReq', value='27198.61', currency='USD', modelCode=''), AccountValue(account='DU1786171', tag='MaintMarginReq', value='27198.61', currency='USD', modelCode=''), AccountValue(account='DU1786171', tag='NetLiquidation', value='997844.74', currency='USD', modelCode=''), AccountValue(account='DU1786171', tag='TotalCashValue', value='1045074.03', currency='USD', modelCode=''), AccountValue(account='All', tag='Currency', value='CHF', currency='CHF', modelCode=''), AccountValue(account='All', tag='CashBalance', value='467227.26', currency='CHF', modelCode=''), AccountValue(account='All', tag='TotalCashBalance', value='467227.26', currency='CHF', modelCode=''), AccountValue(account='All', tag='AccruedCash', value='-138.95', currency='CHF', modelCode=''), AccountValue(account='All', tag='StockMarketValue', value='0.00', currency='CHF', modelCode=''), AccountValue(account='All', tag='OptionMarketValue', value='0.00', currency='CHF', modelCode=''), AccountValue(account='All', tag='FutureOptionValue', value='0.00', currency='CHF', modelCode=''), AccountValue(account='All', tag='FuturesPNL', value='0.00', currency='CHF', modelCode=''), AccountValue(account='All', tag='NetLiquidationByCurrency', value='467088.31', currency='CHF', modelCode=''), AccountValue(account='All', tag='UnrealizedPnL', value='0.00', currency='CHF', modelCode=''), AccountValue(account='All', tag='RealizedPnL', value='0.00', currency='CHF', modelCode=''), AccountValue(account='All', tag='ExchangeRate', value='1.0961006', currency='CHF', modelCode=''), AccountValue(account='All', tag='FundValue', value='0.00', currency='CHF', modelCode=''), AccountValue(account='All', tag='NetDividend', value='0.00', currency='CHF', modelCode=''), AccountValue(account='All', tag='MutualFundValue', value='0.00', currency='CHF', modelCode=''), AccountValue(account='All', tag='MoneyMarketFundValue', value='0.00', currency='CHF', modelCode=''), AccountValue(account='All', tag='CorporateBondValue', value='0.00', currency='CHF', modelCode=''), AccountValue(account='All', tag='TBondValue', value='0.00', currency='CHF', modelCode=''), AccountValue(account='All', tag='TBillValue', value='0.00', currency='CHF', modelCode=''), AccountValue(account='All', tag='WarrantValue', value='0.00', currency='CHF', modelCode=''), AccountValue(account='All', tag='FxCashBalance', value='0.00', currency='CHF', modelCode=''), AccountValue(account='All', tag='AccountOrGroup', value='All', currency='CHF', modelCode=''), AccountValue(account='All', tag='RealCurrency', value='CHF', currency='CHF', modelCode=''), AccountValue(account='All', tag='IssuerOptionValue', value='0.00', currency='CHF', modelCode=''), AccountValue(account='All', tag='Currency', value='EUR', currency='EUR', modelCode=''), AccountValue(account='All', tag='CashBalance', value='680003.48', currency='EUR', modelCode=''), AccountValue(account='All', tag='TotalCashBalance', value='680003.48', currency='EUR', modelCode=''), AccountValue(account='All', tag='AccruedCash', value='-215.74', currency='EUR', modelCode=''), AccountValue(account='All', tag='StockMarketValue', value='0.00', currency='EUR', modelCode=''), AccountValue(account='All', tag='OptionMarketValue', value='0.00', currency='EUR', modelCode=''), AccountValue(account='All', tag='FutureOptionValue', value='0.00', currency='EUR', modelCode=''), AccountValue(account='All', tag='FuturesPNL', value='0.00', currency='EUR', modelCode=''), AccountValue(account='All', tag='NetLiquidationByCurrency', value='679787.74', currency='EUR', modelCode=''), AccountValue(account='All', tag='UnrealizedPnL', value='0.00', currency='EUR', modelCode=''), AccountValue(account='All', tag='RealizedPnL', value='0.00', currency='EUR', modelCode=''), AccountValue(account='All', tag='ExchangeRate', value='1.143325', currency='EUR', modelCode=''), AccountValue(account='All', tag='FundValue', value='0.00', currency='EUR', modelCode=''), AccountValue(account='All', tag='NetDividend', value='0.00', currency='EUR', modelCode=''), AccountValue(account='All', tag='MutualFundValue', value='0.00', currency='EUR', modelCode=''), AccountValue(account='All', tag='MoneyMarketFundValue', value='0.00', currency='EUR', modelCode=''), AccountValue(account='All', tag='CorporateBondValue', value='0.00', currency='EUR', modelCode=''), AccountValue(account='All', tag='TBondValue', value='0.00', currency='EUR', modelCode=''), AccountValue(account='All', tag='TBillValue', value='0.00', currency='EUR', modelCode=''), AccountValue(account='All', tag='WarrantValue', value='0.00', currency='EUR', modelCode=''), AccountValue(account='All', tag='FxCashBalance', value='0.00', currency='EUR', modelCode=''), AccountValue(account='All', tag='AccountOrGroup', value='All', currency='EUR', modelCode=''), AccountValue(account='All', tag='RealCurrency', value='EUR', currency='EUR', modelCode=''), AccountValue(account='All', tag='IssuerOptionValue', value='0.00', currency='EUR', modelCode=''), AccountValue(account='All', tag='Currency', value='GBP', currency='GBP', modelCode=''), AccountValue(account='All', tag='CashBalance', value='347900.00', currency='GBP', modelCode=''), AccountValue(account='All', tag='TotalCashBalance', value='347900.00', currency='GBP', modelCode=''), AccountValue(account='All', tag='AccruedCash', value='0.00', currency='GBP', modelCode=''), AccountValue(account='All', tag='StockMarketValue', value='0.00', currency='GBP', modelCode=''), AccountValue(account='All', tag='OptionMarketValue', value='0.00', currency='GBP', modelCode=''), AccountValue(account='All', tag='FutureOptionValue', value='0.00', currency='GBP', modelCode=''), AccountValue(account='All', tag='FuturesPNL', value='0.00', currency='GBP', modelCode=''), AccountValue(account='All', tag='NetLiquidationByCurrency', value='347900.00', currency='GBP', modelCode=''), AccountValue(account='All', tag='UnrealizedPnL', value='0.00', currency='GBP', modelCode=''), AccountValue(account='All', tag='RealizedPnL', value='0.00', currency='GBP', modelCode=''), AccountValue(account='All', tag='ExchangeRate', value='1.368825', currency='GBP', modelCode=''), AccountValue(account='All', tag='FundValue', value='0.00', currency='GBP', modelCode=''), AccountValue(account='All', tag='NetDividend', value='0.00', currency='GBP', modelCode=''), AccountValue(account='All', tag='MutualFundValue', value='0.00', currency='GBP', modelCode=''), AccountValue(account='All', tag='MoneyMarketFundValue', value='0.00', currency='GBP', modelCode=''), AccountValue(account='All', tag='CorporateBondValue', value='0.00', currency='GBP', modelCode=''), AccountValue(account='All', tag='TBondValue', value='0.00', currency='GBP', modelCode=''), AccountValue(account='All', tag='TBillValue', value='0.00', currency='GBP', modelCode=''), AccountValue(account='All', tag='WarrantValue', value='0.00', currency='GBP', modelCode=''), AccountValue(account='All', tag='FxCashBalance', value='0.00', currency='GBP', modelCode=''), AccountValue(account='All', tag='AccountOrGroup', value='All', currency='GBP', modelCode=''), AccountValue(account='All', tag='RealCurrency', value='GBP', currency='GBP', modelCode=''), AccountValue(account='All', tag='IssuerOptionValue', value='0.00', currency='GBP', modelCode=''), AccountValue(account='All', tag='Currency', value='USD', currency='USD', modelCode=''), AccountValue(account='All', tag='CashBalance', value='-720373.96', currency='USD', modelCode=''), AccountValue(account='All', tag='TotalCashBalance', value='-720373.96', currency='USD', modelCode=''), AccountValue(account='All', tag='AccruedCash', value='-288.39', currency='USD', modelCode=''), AccountValue(account='All', tag='StockMarketValue', value='-46542.00', currency='USD', modelCode=''), AccountValue(account='All', tag='OptionMarketValue', value='0.00', currency='USD', modelCode=''), AccountValue(account='All', tag='FutureOptionValue', value='0.00', currency='USD', modelCode=''), AccountValue(account='All', tag='FuturesPNL', value='0.00', currency='USD', modelCode=''), AccountValue(account='All', tag='NetLiquidationByCurrency', value='-767204.3513', currency='USD', modelCode=''), AccountValue(account='All', tag='UnrealizedPnL', value='-14390.68', currency='USD', modelCode=''), AccountValue(account='All', tag='RealizedPnL', value='0.00', currency='USD', modelCode=''), AccountValue(account='All', tag='ExchangeRate', value='1.00', currency='USD', modelCode=''), AccountValue(account='All', tag='FundValue', value='0.00', currency='USD', modelCode=''), AccountValue(account='All', tag='NetDividend', value='0.00', currency='USD', modelCode=''), AccountValue(account='All', tag='MutualFundValue', value='0.00', currency='USD', modelCode=''), AccountValue(account='All', tag='MoneyMarketFundValue', value='0.00', currency='USD', modelCode=''), AccountValue(account='All', tag='CorporateBondValue', value='0.00', currency='USD', modelCode=''), AccountValue(account='All', tag='TBondValue', value='0.00', currency='USD', modelCode=''), AccountValue(account='All', tag='TBillValue', value='0.00', currency='USD', modelCode=''), AccountValue(account='All', tag='WarrantValue', value='0.00', currency='USD', modelCode=''), AccountValue(account='All', tag='FxCashBalance', value='0.00', currency='USD', modelCode=''), AccountValue(account='All', tag='AccountOrGroup', value='All', currency='USD', modelCode=''), AccountValue(account='All', tag='RealCurrency', value='USD', currency='USD', modelCode=''), AccountValue(account='All', tag='IssuerOptionValue', value='0.00', currency='USD', modelCode=''), AccountValue(account='All', tag='Currency', value='BASE', currency='BASE', modelCode=''), AccountValue(account='All', tag='CashBalance', value='1045074.0268', currency='BASE', modelCode=''), AccountValue(account='All', tag='TotalCashBalance', value='1045074.0268', currency='BASE', modelCode=''), AccountValue(account='All', tag='AccruedCash', value='-687.2859461', currency='BASE', modelCode=''), AccountValue(account='All', tag='StockMarketValue', value='-46542.00', currency='BASE', modelCode=''), AccountValue(account='All', tag='OptionMarketValue', value='0.00', currency='BASE', modelCode=''), AccountValue(account='All', tag='FutureOptionValue', value='0.00', currency='BASE', modelCode=''), AccountValue(account='All', tag='FuturesPNL', value='0.00', currency='BASE', modelCode=''), AccountValue(account='All', tag='NetLiquidationByCurrency', value='997844.7395', currency='BASE', modelCode=''), AccountValue(account='All', tag='UnrealizedPnL', value='-14390.68', currency='BASE', modelCode=''), AccountValue(account='All', tag='RealizedPnL', value='0.00', currency='BASE', modelCode=''), AccountValue(account='All', tag='ExchangeRate', value='1.00', currency='BASE', modelCode=''), AccountValue(account='All', tag='FundValue', value='0.00', currency='BASE', modelCode=''), AccountValue(account='All', tag='NetDividend', value='0.00', currency='BASE', modelCode=''), AccountValue(account='All', tag='MutualFundValue', value='0.00', currency='BASE', modelCode=''), AccountValue(account='All', tag='MoneyMarketFundValue', value='0.00', currency='BASE', modelCode=''), AccountValue(account='All', tag='CorporateBondValue', value='0.00', currency='BASE', modelCode=''), AccountValue(account='All', tag='TBondValue', value='0.00', currency='BASE', modelCode=''), AccountValue(account='All', tag='TBillValue', value='0.00', currency='BASE', modelCode=''), AccountValue(account='All', tag='WarrantValue', value='0.00', currency='BASE', modelCode=''), AccountValue(account='All', tag='FxCashBalance', value='0.00', currency='BASE', modelCode=''), AccountValue(account='All', tag='AccountOrGroup', value='All', currency='BASE', modelCode=''), AccountValue(account='All', tag='RealCurrency', value='BASE', currency='BASE', modelCode=''), AccountValue(account='All', tag='IssuerOptionValue', value='0.00', currency='BASE', modelCode='')]\n"
     ]
    },
    {
     "data": {
      "text/plain": [
       "True"
      ]
     },
     "execution_count": 3,
     "metadata": {},
     "output_type": "execute_result"
    }
   ],
   "source": [
    "account_value_list = ib_api.get_handle().accountSummary()\n",
    "print(account_value_list)\n",
    "\n",
    "ib_api.get_handle().sleep(3)"
   ]
  },
  {
   "cell_type": "code",
   "execution_count": 4,
   "metadata": {},
   "outputs": [
    {
     "name": "stdout",
     "output_type": "stream",
     "text": [
      "[PortfolioItem(contract=Forex('CHFUSD', conId=12087802, right='0', primaryExchange='IDEALPRO', localSymbol='CHF.USD', tradingClass='CHF.USD'), position=467680.0, marketPrice=1.09592495, marketValue=512542.19, averageCost=1.094, unrealizedPNL=900.27, realizedPNL=0.0, account='DU1786171'), PortfolioItem(contract=Forex('EURUSD', conId=12087792, right='0', primaryExchange='IDEALPRO', localSymbol='EUR.USD', tradingClass='EUR.USD'), position=680590.0, marketPrice=1.14312505, marketValue=777999.48, averageCost=1.13457335, unrealizedPNL=5820.22, realizedPNL=0.0, account='DU1786171'), PortfolioItem(contract=Forex('GBPUSD', conId=12087797, right='0', primaryExchange='IDEALPRO', localSymbol='GBP.USD', tradingClass='GBP.USD'), position=347900.0, marketPrice=1.368425, marketValue=476075.06, averageCost=1.35622305, unrealizedPNL=4245.06, realizedPNL=0.0, account='DU1786171'), PortfolioItem(contract=Stock(conId=756733, symbol='SPY', right='0', primaryExchange='ARCA', currency='USD', localSymbol='SPY', tradingClass='SPY'), position=-100.0, marketPrice=465.42001345, marketValue=-46542.0, averageCost=321.513226, unrealizedPNL=-14390.68, realizedPNL=0.0, account='DU1786171')]\n"
     ]
    },
    {
     "data": {
      "text/plain": [
       "True"
      ]
     },
     "execution_count": 4,
     "metadata": {},
     "output_type": "execute_result"
    }
   ],
   "source": [
    "my_portfolio = ib_api.get_handle().portfolio()\n",
    "print(my_portfolio)\n",
    "\n",
    "ib_api.get_handle().sleep(3)"
   ]
  },
  {
   "cell_type": "code",
   "execution_count": 5,
   "metadata": {},
   "outputs": [
    {
     "name": "stdout",
     "output_type": "stream",
     "text": [
      "[Position(account='DU1786171', contract=Forex('GBPUSD', conId=12087797, localSymbol='GBP.USD', tradingClass='GBP.USD'), position=347900.0, avgCost=1.35622305), Position(account='DU1786171', contract=Forex('EURUSD', conId=12087792, localSymbol='EUR.USD', tradingClass='EUR.USD'), position=680590.0, avgCost=1.13457335), Position(account='DU1786171', contract=Stock(conId=756733, symbol='SPY', exchange='ARCA', currency='USD', localSymbol='SPY', tradingClass='SPY'), position=-100.0, avgCost=321.513226), Position(account='DU1786171', contract=Forex('CHFUSD', conId=12087802, localSymbol='CHF.USD', tradingClass='CHF.USD'), position=467680.0, avgCost=1.094)]\n"
     ]
    },
    {
     "data": {
      "text/plain": [
       "True"
      ]
     },
     "execution_count": 5,
     "metadata": {},
     "output_type": "execute_result"
    }
   ],
   "source": [
    "my_positions = ib_api.get_handle().positions()\n",
    "print(my_positions)\n",
    "\n",
    "ib_api.get_handle().sleep(3)"
   ]
  },
  {
   "cell_type": "code",
   "execution_count": null,
   "metadata": {},
   "outputs": [],
   "source": []
  },
  {
   "cell_type": "code",
   "execution_count": 6,
   "metadata": {},
   "outputs": [],
   "source": [
    "ib_api.disconnect()"
   ]
  },
  {
   "cell_type": "code",
   "execution_count": 7,
   "metadata": {},
   "outputs": [
    {
     "data": {
      "text/plain": [
       "AccountValue(account='DU1786171', tag='LookAheadNextChange', value='1642429800', currency='', modelCode='')"
      ]
     },
     "execution_count": 7,
     "metadata": {},
     "output_type": "execute_result"
    }
   ],
   "source": []
  },
  {
   "cell_type": "code",
   "execution_count": null,
   "metadata": {},
   "outputs": [],
   "source": []
  }
 ],
 "metadata": {
  "kernelspec": {
   "display_name": "Python 3",
   "language": "python",
   "name": "python3"
  },
  "language_info": {
   "codemirror_mode": {
    "name": "ipython",
    "version": 3
   },
   "file_extension": ".py",
   "mimetype": "text/x-python",
   "name": "python",
   "nbconvert_exporter": "python",
   "pygments_lexer": "ipython3",
   "version": "3.7.6"
  }
 },
 "nbformat": 4,
 "nbformat_minor": 4
}
